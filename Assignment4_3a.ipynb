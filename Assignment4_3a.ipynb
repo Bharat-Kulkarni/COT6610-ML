{
  "nbformat": 4,
  "nbformat_minor": 0,
  "metadata": {
    "colab": {
      "name": "Assignment4_3a.ipynb",
      "provenance": [],
      "collapsed_sections": [],
      "authorship_tag": "ABX9TyOaFXsFO3spr7cvLImCs99y",
      "include_colab_link": true
    },
    "kernelspec": {
      "name": "python3",
      "display_name": "Python 3"
    }
  },
  "cells": [
    {
      "cell_type": "markdown",
      "metadata": {
        "id": "view-in-github",
        "colab_type": "text"
      },
      "source": [
        "<a href=\"https://colab.research.google.com/github/Bharat-Kulkarni/COT6610-ML/blob/master/Assignment4_3a.ipynb\" target=\"_parent\"><img src=\"https://colab.research.google.com/assets/colab-badge.svg\" alt=\"Open In Colab\"/></a>"
      ]
    },
    {
      "cell_type": "code",
      "metadata": {
        "id": "3NwfWuGdu_eH",
        "colab_type": "code",
        "colab": {}
      },
      "source": [
        "import numpy as np\n",
        "import pandas as pd"
      ],
      "execution_count": 0,
      "outputs": []
    },
    {
      "cell_type": "code",
      "metadata": {
        "id": "VoRs_faDvLlK",
        "colab_type": "code",
        "colab": {}
      },
      "source": [
        "import urllib.request\n",
        "urllib.request.urlretrieve (\"http://qwone.com/~jason/20Newsgroups/20news-bydate-matlab.tgz\", \"temp.tar.gz\")\n",
        "import tarfile\n",
        "tar = tarfile.open(\"temp.tar.gz\")\n",
        "tar.extractall()\n",
        "tar.close()"
      ],
      "execution_count": 0,
      "outputs": []
    },
    {
      "cell_type": "code",
      "metadata": {
        "id": "q85JLD6bvVb-",
        "colab_type": "code",
        "outputId": "a0fdc7b4-2d12-42f0-b266-68631f80d21f",
        "colab": {
          "base_uri": "https://localhost:8080/",
          "height": 153
        }
      },
      "source": [
        "dataset = np.loadtxt(\"20news-bydate/matlab/train.data\", delimiter=\" \", dtype = int)\n",
        "print(len(dataset))\n",
        "print(dataset)"
      ],
      "execution_count": 8,
      "outputs": [
        {
          "output_type": "stream",
          "text": [
            "1467345\n",
            "[[    1     1     4]\n",
            " [    1     2     2]\n",
            " [    1     3    10]\n",
            " ...\n",
            " [11269 48919     1]\n",
            " [11269 51544     1]\n",
            " [11269 53958     1]]\n"
          ],
          "name": "stdout"
        }
      ]
    },
    {
      "cell_type": "code",
      "metadata": {
        "id": "JZwGw2vlBDCS",
        "colab_type": "code",
        "colab": {}
      },
      "source": [
        "from sklearn.feature_extraction.text import TfidfTransformer\n",
        "from sklearn.feature_extraction.text import CountVectorizer"
      ],
      "execution_count": 0,
      "outputs": []
    },
    {
      "cell_type": "code",
      "metadata": {
        "id": "kY_Bg1PONMfz",
        "colab_type": "code",
        "colab": {}
      },
      "source": [
        "X = TfidfTransformer()\n"
      ],
      "execution_count": 0,
      "outputs": []
    },
    {
      "cell_type": "code",
      "metadata": {
        "id": "HxN8rmsqZes3",
        "colab_type": "code",
        "colab": {}
      },
      "source": [
        "phi_T = X.fit_transform(dataset)\n",
        "#"
      ],
      "execution_count": 0,
      "outputs": []
    },
    {
      "cell_type": "code",
      "metadata": {
        "id": "L6dlSaYchOt9",
        "colab_type": "code",
        "outputId": "0d78e599-5f2b-4f63-aa15-114a784e915f",
        "colab": {
          "base_uri": "https://localhost:8080/",
          "height": 901
        }
      },
      "source": [
        " print(phi_T.shape[0])\n",
        " print(phi_T)"
      ],
      "execution_count": 12,
      "outputs": [
        {
          "output_type": "stream",
          "text": [
            "1467345\n",
            "  (0, 2)\t0.9428090415820635\n",
            "  (0, 1)\t0.23570226039551587\n",
            "  (0, 0)\t0.23570226039551587\n",
            "  (1, 2)\t0.6666666666666666\n",
            "  (1, 1)\t0.6666666666666666\n",
            "  (1, 0)\t0.3333333333333333\n",
            "  (2, 2)\t0.9534625892455924\n",
            "  (2, 1)\t0.28603877677367767\n",
            "  (2, 0)\t0.09534625892455924\n",
            "  (3, 2)\t0.6963106238227914\n",
            "  (3, 1)\t0.6963106238227914\n",
            "  (3, 0)\t0.17407765595569785\n",
            "  (4, 2)\t0.3651483716701107\n",
            "  (4, 1)\t0.9128709291752769\n",
            "  (4, 0)\t0.18257418583505536\n",
            "  (5, 2)\t0.16222142113076254\n",
            "  (5, 1)\t0.9733285267845753\n",
            "  (5, 0)\t0.16222142113076254\n",
            "  (6, 2)\t0.14002800840280097\n",
            "  (6, 1)\t0.9801960588196068\n",
            "  (6, 0)\t0.14002800840280097\n",
            "  (7, 2)\t0.12309149097933272\n",
            "  (7, 1)\t0.9847319278346618\n",
            "  (7, 0)\t0.12309149097933272\n",
            "  (8, 2)\t0.3144854510165755\n",
            "  :\t:\n",
            "  (1467336, 0)\t0.3720793969152829\n",
            "  (1467337, 2)\t3.287283452384545e-05\n",
            "  (1467337, 1)\t0.9288548123057769\n",
            "  (1467337, 0)\t0.3704439722492143\n",
            "  (1467338, 2)\t3.156563099543453e-05\n",
            "  (1467338, 1)\t0.9345952025128257\n",
            "  (1467338, 0)\t0.3557130956875518\n",
            "  (1467339, 2)\t3.104029035283866e-05\n",
            "  (1467339, 1)\t0.9368270031390237\n",
            "  (1467339, 0)\t0.3497930319861389\n",
            "  (1467340, 2)\t2.0530296899801583e-05\n",
            "  (1467340, 1)\t0.9728691791908977\n",
            "  (1467340, 0)\t0.23135591576386405\n",
            "  (1467341, 2)\t2.014700797840414e-05\n",
            "  (1467341, 1)\t0.9738862186680778\n",
            "  (1467341, 0)\t0.22703663290863627\n",
            "  (1467342, 2)\t1.9920243934606525e-05\n",
            "  (1467342, 1)\t0.9744784130370167\n",
            "  (1467342, 0)\t0.22448122889908093\n",
            "  (1467343, 2)\t1.895321938441262e-05\n",
            "  (1467343, 1)\t0.976924739950164\n",
            "  (1467343, 0)\t0.2135838292429458\n",
            "  (1467344, 2)\t1.814151345141099e-05\n",
            "  (1467344, 1)\t0.9788797828112342\n",
            "  (1467344, 0)\t0.20443671508395045\n"
          ],
          "name": "stdout"
        }
      ]
    },
    {
      "cell_type": "code",
      "metadata": {
        "id": "FRVNosH3heUc",
        "colab_type": "code",
        "colab": {}
      },
      "source": [
        "x_t= np.array(phi_T)\n",
        "\n",
        "x = x.transpose() #phi"
      ],
      "execution_count": 0,
      "outputs": []
    },
    {
      "cell_type": "code",
      "metadata": {
        "id": "zkTFh0f6HrF_",
        "colab_type": "code",
        "colab": {
          "base_uri": "https://localhost:8080/",
          "height": 153
        },
        "outputId": "29e95b15-c010-4d57-cc07-00266f46e531"
      },
      "source": [
        "numRows = len(dataset)\n",
        "k = 2\n",
        "theta = np.random.randn(numRows, k)\n",
        "print(len(theta))# theta.size[1])\n",
        "print(theta)\n"
      ],
      "execution_count": 21,
      "outputs": [
        {
          "output_type": "stream",
          "text": [
            "1467345\n",
            "[[ 1.15060343 -1.2769465 ]\n",
            " [-0.00990217  2.46901779]\n",
            " [ 0.06586346  0.73646044]\n",
            " ...\n",
            " [ 0.33445444 -0.16430231]\n",
            " [-0.98401201 -0.23202352]\n",
            " [-0.58289727 -0.97354899]]\n"
          ],
          "name": "stdout"
        }
      ]
    },
    {
      "cell_type": "code",
      "metadata": {
        "id": "oRQNBe5XiFog",
        "colab_type": "code",
        "outputId": "d878eb01-eea6-42be-fd80-0ef40c764b28",
        "colab": {
          "base_uri": "https://localhost:8080/",
          "height": 163
        }
      },
      "source": [
        "# prod = np.matmul(x_t,x)   "
      ],
      "execution_count": 0,
      "outputs": [
        {
          "output_type": "error",
          "ename": "ValueError",
          "evalue": "ignored",
          "traceback": [
            "\u001b[0;31m---------------------------------------------------------------------------\u001b[0m",
            "\u001b[0;31mValueError\u001b[0m                                Traceback (most recent call last)",
            "\u001b[0;32m<ipython-input-55-f041929964be>\u001b[0m in \u001b[0;36m<module>\u001b[0;34m()\u001b[0m\n\u001b[0;32m----> 1\u001b[0;31m \u001b[0mprod\u001b[0m \u001b[0;34m=\u001b[0m \u001b[0mnp\u001b[0m\u001b[0;34m.\u001b[0m\u001b[0mmatmul\u001b[0m\u001b[0;34m(\u001b[0m\u001b[0mx_t\u001b[0m\u001b[0;34m,\u001b[0m\u001b[0mx\u001b[0m\u001b[0;34m)\u001b[0m\u001b[0;34m\u001b[0m\u001b[0;34m\u001b[0m\u001b[0m\n\u001b[0m",
            "\u001b[0;31mValueError\u001b[0m: matmul: Input operand 0 does not have enough dimensions (has 0, gufunc core with signature (n?,k),(k,m?)->(n?,m?) requires 1)"
          ]
        }
      ]
    },
    {
      "cell_type": "code",
      "metadata": {
        "id": "RsZSEzfuT-g3",
        "colab_type": "code",
        "colab": {}
      },
      "source": [
        "while(true):\n",
        "  theta_new = np.matmul(prod,theta)  # Step1\n",
        "  theta_new = np.linalg.qr(theta_new)\n",
        "\n",
        "  factor = np.linalg.norm(theta_new - theta)\n",
        "  if(factor < 0.1):   #Near convergance \n",
        "    break;\n",
        "  "
      ],
      "execution_count": 0,
      "outputs": []
    }
  ]
}